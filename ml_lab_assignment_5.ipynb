{
 "cells": [
  {
   "cell_type": "code",
   "execution_count": 1,
   "id": "3fbd9f3b",
   "metadata": {},
   "outputs": [],
   "source": [
    "import numpy as np"
   ]
  },
  {
   "cell_type": "code",
   "execution_count": 2,
   "id": "d5d88a41",
   "metadata": {},
   "outputs": [],
   "source": [
    "class Perceptron:\n",
    "    def __init__(self, weights, learning_rate):\n",
    "        self.weights = weights\n",
    "        self.learning_rate = learning_rate\n",
    "\n",
    "    def predict(self, inputs):\n",
    "        weighted_sum = np.dot(self.weights, inputs)\n",
    "        output = self.step_activation_function(weighted_sum)\n",
    "        return output\n",
    "\n",
    "    def step_activation_function(self, weighted_sum):\n",
    "        if weighted_sum >= 0:\n",
    "            return 1\n",
    "        else:\n",
    "            return 0\n",
    "\n",
    "    def train(self, inputs, targets):\n",
    "        for i in range(len(inputs)):\n",
    "            output = self.predict(inputs[i])\n",
    "            error = targets[i] - output\n",
    "            self.weights += self.learning_rate * error * inputs[i]"
   ]
  },
  {
   "cell_type": "code",
   "execution_count": 30,
   "id": "e7d244cd",
   "metadata": {},
   "outputs": [
    {
     "ename": "ValueError",
     "evalue": "shapes (3,) and (2,) not aligned: 3 (dim 0) != 2 (dim 0)",
     "output_type": "error",
     "traceback": [
      "\u001b[0;31m---------------------------------------------------------------------------\u001b[0m",
      "\u001b[0;31mValueError\u001b[0m                                Traceback (most recent call last)",
      "Input \u001b[0;32mIn [30]\u001b[0m, in \u001b[0;36m<cell line: 10>\u001b[0;34m()\u001b[0m\n\u001b[1;32m      8\u001b[0m training_targets \u001b[38;5;241m=\u001b[39m training_targets\u001b[38;5;241m.\u001b[39mreshape((\u001b[38;5;241m4\u001b[39m, \u001b[38;5;241m1\u001b[39m))\n\u001b[1;32m     10\u001b[0m \u001b[38;5;28;01mfor\u001b[39;00m epoch \u001b[38;5;129;01min\u001b[39;00m \u001b[38;5;28mrange\u001b[39m(\u001b[38;5;241m1000\u001b[39m):\n\u001b[0;32m---> 11\u001b[0m     \u001b[43mperceptron\u001b[49m\u001b[38;5;241;43m.\u001b[39;49m\u001b[43mtrain\u001b[49m\u001b[43m(\u001b[49m\u001b[43mtraining_inputs\u001b[49m\u001b[43m,\u001b[49m\u001b[43m \u001b[49m\u001b[43mtraining_targets\u001b[49m\u001b[43m)\u001b[49m\n",
      "Input \u001b[0;32mIn [2]\u001b[0m, in \u001b[0;36mPerceptron.train\u001b[0;34m(self, inputs, targets)\u001b[0m\n\u001b[1;32m     17\u001b[0m \u001b[38;5;28;01mdef\u001b[39;00m \u001b[38;5;21mtrain\u001b[39m(\u001b[38;5;28mself\u001b[39m, inputs, targets):\n\u001b[1;32m     18\u001b[0m     \u001b[38;5;28;01mfor\u001b[39;00m i \u001b[38;5;129;01min\u001b[39;00m \u001b[38;5;28mrange\u001b[39m(\u001b[38;5;28mlen\u001b[39m(inputs)):\n\u001b[0;32m---> 19\u001b[0m         output \u001b[38;5;241m=\u001b[39m \u001b[38;5;28;43mself\u001b[39;49m\u001b[38;5;241;43m.\u001b[39;49m\u001b[43mpredict\u001b[49m\u001b[43m(\u001b[49m\u001b[43minputs\u001b[49m\u001b[43m[\u001b[49m\u001b[43mi\u001b[49m\u001b[43m]\u001b[49m\u001b[43m)\u001b[49m\n\u001b[1;32m     20\u001b[0m         error \u001b[38;5;241m=\u001b[39m targets[i] \u001b[38;5;241m-\u001b[39m output\n\u001b[1;32m     21\u001b[0m         \u001b[38;5;28mself\u001b[39m\u001b[38;5;241m.\u001b[39mweights \u001b[38;5;241m+\u001b[39m\u001b[38;5;241m=\u001b[39m \u001b[38;5;28mself\u001b[39m\u001b[38;5;241m.\u001b[39mlearning_rate \u001b[38;5;241m*\u001b[39m error \u001b[38;5;241m*\u001b[39m inputs[i]\n",
      "Input \u001b[0;32mIn [2]\u001b[0m, in \u001b[0;36mPerceptron.predict\u001b[0;34m(self, inputs)\u001b[0m\n\u001b[1;32m      6\u001b[0m \u001b[38;5;28;01mdef\u001b[39;00m \u001b[38;5;21mpredict\u001b[39m(\u001b[38;5;28mself\u001b[39m, inputs):\n\u001b[0;32m----> 7\u001b[0m     weighted_sum \u001b[38;5;241m=\u001b[39m \u001b[43mnp\u001b[49m\u001b[38;5;241;43m.\u001b[39;49m\u001b[43mdot\u001b[49m\u001b[43m(\u001b[49m\u001b[38;5;28;43mself\u001b[39;49m\u001b[38;5;241;43m.\u001b[39;49m\u001b[43mweights\u001b[49m\u001b[43m,\u001b[49m\u001b[43m \u001b[49m\u001b[43minputs\u001b[49m\u001b[43m)\u001b[49m\n\u001b[1;32m      8\u001b[0m     output \u001b[38;5;241m=\u001b[39m \u001b[38;5;28mself\u001b[39m\u001b[38;5;241m.\u001b[39mstep_activation_function(weighted_sum)\n\u001b[1;32m      9\u001b[0m     \u001b[38;5;28;01mreturn\u001b[39;00m output\n",
      "File \u001b[0;32m<__array_function__ internals>:5\u001b[0m, in \u001b[0;36mdot\u001b[0;34m(*args, **kwargs)\u001b[0m\n",
      "\u001b[0;31mValueError\u001b[0m: shapes (3,) and (2,) not aligned: 3 (dim 0) != 2 (dim 0)"
     ]
    }
   ],
   "source": [
    "perceptron = Perceptron([10, 0.2, -0.75], 0.05)\n",
    "\n",
    "# Train the perceptron on the AND gate logic\n",
    "training_inputs = np.array([[0, 0], [0, 1], [1, 0], [1, 1]])\n",
    "training_targets = np.array([0, 0, 0, 1])\n",
    "\n",
    "# Reshape the training targets array to have the same shape as the training inputs array\n",
    "training_targets = training_targets.reshape((4, 1))\n",
    "\n",
    "for epoch in range(1000):\n",
    "    perceptron.train(training_inputs, training_targets)"
   ]
  },
  {
   "cell_type": "code",
   "execution_count": 32,
   "id": "4df8f919",
   "metadata": {},
   "outputs": [
    {
     "name": "stdout",
     "output_type": "stream",
     "text": [
      "[ 0.85 -0.75 -0.8 ]\n"
     ]
    }
   ],
   "source": [
    "import numpy as np\n",
    "\n",
    "def step_activation_function(x):\n",
    "    return 1 if x >= 0 else 0\n",
    "\n",
    "def perceptron_model(x, w):\n",
    "    x = np.insert(x, 0, 1)\n",
    "    z = np.dot(x, w)\n",
    "    return step_activation_function(z)\n",
    "\n",
    "def train_perceptron_model(X, y, w, alpha, epochs):\n",
    "    for epoch in range(epochs):\n",
    "        for i in range(len(X)):\n",
    "            x = X[i]\n",
    "            y_hat = perceptron_model(x, w)\n",
    "            error = y[i] - y_hat\n",
    "            w += alpha * error * np.insert(x, 0, 1)\n",
    "    return w\n",
    "\n",
    "X = np.array([[0, 0], [0, 1], [1, 0], [1, 1]])\n",
    "y = np.array([0, 0, 0, 1])\n",
    "w = np.array([10, 0.2, -0.75])\n",
    "alpha = 0.05\n",
    "epochs = 100\n",
    "\n",
    "w = train_perceptron_model(X, y, w, alpha, epochs)\n",
    "print(w)"
   ]
  },
  {
   "cell_type": "code",
   "execution_count": null,
   "id": "ddcaa13a",
   "metadata": {},
   "outputs": [],
   "source": []
  }
 ],
 "metadata": {
  "kernelspec": {
   "display_name": "Python 3 (ipykernel)",
   "language": "python",
   "name": "python3"
  },
  "language_info": {
   "codemirror_mode": {
    "name": "ipython",
    "version": 3
   },
   "file_extension": ".py",
   "mimetype": "text/x-python",
   "name": "python",
   "nbconvert_exporter": "python",
   "pygments_lexer": "ipython3",
   "version": "3.9.12"
  }
 },
 "nbformat": 4,
 "nbformat_minor": 5
}
